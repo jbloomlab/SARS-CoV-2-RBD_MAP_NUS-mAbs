{
 "cells": [
  {
   "cell_type": "markdown",
   "metadata": {},
   "source": [
    "# Multidimensional scaling of antibody escape profiles\n",
    "This Python Jupyter notebook performs multi-dimensional scaling of escape profiles to project the antibodies into two dimensions based on similarity of their escape profiles."
   ]
  },
  {
   "cell_type": "markdown",
   "metadata": {},
   "source": [
    "## Set up analysis\n",
    "Import Python modules:"
   ]
  },
  {
   "cell_type": "code",
   "execution_count": 1,
   "metadata": {
    "execution": {
     "iopub.execute_input": "2022-04-26T01:55:16.554223Z",
     "iopub.status.busy": "2022-04-26T01:55:16.553810Z",
     "iopub.status.idle": "2022-04-26T01:55:18.959808Z",
     "shell.execute_reply": "2022-04-26T01:55:18.960502Z"
    }
   },
   "outputs": [],
   "source": [
    "import itertools\n",
    "import os\n",
    "\n",
    "import adjustText\n",
    "\n",
    "from dms_variants.constants import CBPALETTE\n",
    "\n",
    "from IPython.display import display, HTML\n",
    "\n",
    "import matplotlib\n",
    "import matplotlib.pyplot as plt\n",
    "\n",
    "import numpy\n",
    "\n",
    "import pandas as pd\n",
    "\n",
    "import seaborn\n",
    "\n",
    "import sklearn.manifold\n",
    "\n",
    "import yaml"
   ]
  },
  {
   "cell_type": "markdown",
   "metadata": {},
   "source": [
    "Read the configuration file:"
   ]
  },
  {
   "cell_type": "code",
   "execution_count": 2,
   "metadata": {
    "execution": {
     "iopub.execute_input": "2022-04-26T01:55:18.963901Z",
     "iopub.status.busy": "2022-04-26T01:55:18.962963Z",
     "iopub.status.idle": "2022-04-26T01:55:18.982727Z",
     "shell.execute_reply": "2022-04-26T01:55:18.983298Z"
    }
   },
   "outputs": [],
   "source": [
    "with open('config.yaml') as f:\n",
    "    config = yaml.safe_load(f)"
   ]
  },
  {
   "cell_type": "markdown",
   "metadata": {},
   "source": [
    "Create output directory:"
   ]
  },
  {
   "cell_type": "code",
   "execution_count": 3,
   "metadata": {
    "execution": {
     "iopub.execute_input": "2022-04-26T01:55:18.986103Z",
     "iopub.status.busy": "2022-04-26T01:55:18.985257Z",
     "iopub.status.idle": "2022-04-26T01:55:18.990828Z",
     "shell.execute_reply": "2022-04-26T01:55:18.991360Z"
    }
   },
   "outputs": [],
   "source": [
    "os.makedirs(config['mds_dir'], exist_ok=True)"
   ]
  },
  {
   "cell_type": "markdown",
   "metadata": {},
   "source": [
    "Extract from configuration what we will use as the site- and mutation-level metrics:"
   ]
  },
  {
   "cell_type": "code",
   "execution_count": 4,
   "metadata": {
    "execution": {
     "iopub.execute_input": "2022-04-26T01:55:18.994032Z",
     "iopub.status.busy": "2022-04-26T01:55:18.993205Z",
     "iopub.status.idle": "2022-04-26T01:55:18.998569Z",
     "shell.execute_reply": "2022-04-26T01:55:18.999148Z"
    }
   },
   "outputs": [
    {
     "name": "stdout",
     "output_type": "stream",
     "text": [
      "At site level, quantifying selection by site_total_escape_frac_epistasis_model\n",
      "At mutation level, quantify selection by mut_escape_frac_epistasis_model\n"
     ]
    }
   ],
   "source": [
    "site_metric = config['site_metric']\n",
    "mut_metric = config['mut_metric']\n",
    "\n",
    "print(f\"At site level, quantifying selection by {site_metric}\")\n",
    "print(f\"At mutation level, quantify selection by {mut_metric}\")"
   ]
  },
  {
   "cell_type": "markdown",
   "metadata": {},
   "source": [
    "## Read samples and escape fractions\n",
    "Read the escape fractions.\n",
    "We only retain the **average** of the libraries for plotting here, not the individual libraries.\n",
    "Also, we work in the full-Spike rather than RBD numbering, which means we use `label_site` as `site` (and so rename as such below):"
   ]
  },
  {
   "cell_type": "code",
   "execution_count": 5,
   "metadata": {
    "execution": {
     "iopub.execute_input": "2022-04-26T01:55:19.002096Z",
     "iopub.status.busy": "2022-04-26T01:55:19.001187Z",
     "iopub.status.idle": "2022-04-26T01:55:19.134059Z",
     "shell.execute_reply": "2022-04-26T01:55:19.134594Z"
    }
   },
   "outputs": [
    {
     "name": "stdout",
     "output_type": "stream",
     "text": [
      "Reading escape fractions from results/escape_scores/escape_fracs.csv\n"
     ]
    }
   ],
   "source": [
    "print(f\"Reading escape fractions from {config['escape_fracs']}\")\n",
    "escape_fracs = (pd.read_csv(config['escape_fracs'])\n",
    "                .query('library == \"average\"')\n",
    "                .drop(columns=['site', 'selection', 'library'])\n",
    "                .rename(columns={'label_site': 'site'})\n",
    "                )"
   ]
  },
  {
   "cell_type": "markdown",
   "metadata": {},
   "source": [
    "## Get antibody sets for each multidimensional scaling\n",
    "We have manually specified configurations for the MDS plots in a YAML file.\n",
    "We will do multi-dimensional scaling for each antibody/sera set specified in this file:"
   ]
  },
  {
   "cell_type": "code",
   "execution_count": 6,
   "metadata": {
    "execution": {
     "iopub.execute_input": "2022-04-26T01:55:19.137398Z",
     "iopub.status.busy": "2022-04-26T01:55:19.136566Z",
     "iopub.status.idle": "2022-04-26T01:55:19.152670Z",
     "shell.execute_reply": "2022-04-26T01:55:19.153198Z"
    }
   },
   "outputs": [
    {
     "name": "stdout",
     "output_type": "stream",
     "text": [
      "Reading MDS configuration from data/mds_config.yaml\n",
      "Reading the site color schemes from data/site_color_schemes.csv\n"
     ]
    }
   ],
   "source": [
    "print(f\"Reading MDS configuration from {config['mds_config']}\")\n",
    "with open(config['mds_config']) as f:\n",
    "    mds_config = yaml.safe_load(f)\n",
    "    \n",
    "print(f\"Reading the site color schemes from {config['site_color_schemes']}\")\n",
    "site_color_schemes = pd.read_csv(config['site_color_schemes'])"
   ]
  },
  {
   "cell_type": "markdown",
   "metadata": {},
   "source": [
    "## Multidimensional scaling\n",
    "Note that there are three main steps here:\n",
    " 1. Calculate similarities between profiles of each antibody.\n",
    " 2. Convert similarities to dissimilarities.\n",
    " 3. Do multi-dimensional scaling and plot the results.\n",
    "\n",
    "First, define a function to compute the similarity between all pairs of escape profiles in a data frame.\n",
    "We calculate similarity as the dot product of the escape profiles for each pair of conditions, using the site-level metric and normalizing each profile so it's dot product with itself is one.\n",
    "Importantly, we raise the site-level metric to the $p$ power in order to emphasize sites with large values (essentially a p-norm):"
   ]
  },
  {
   "cell_type": "code",
   "execution_count": 7,
   "metadata": {
    "execution": {
     "iopub.execute_input": "2022-04-26T01:55:19.156089Z",
     "iopub.status.busy": "2022-04-26T01:55:19.155215Z",
     "iopub.status.idle": "2022-04-26T01:55:19.161899Z",
     "shell.execute_reply": "2022-04-26T01:55:19.162419Z"
    }
   },
   "outputs": [],
   "source": [
    "def escape_similarity(df, p=1):\n",
    "    \"\"\"Compute similarity between all pairs of conditions in `df`.\"\"\"\n",
    "    df = df[['condition', 'site', site_metric]].drop_duplicates()\n",
    "    assert not df.isnull().any().any()\n",
    "    \n",
    "    conditions = df['condition'].unique()\n",
    "    similarities = []\n",
    "    pivoted_df = (\n",
    "        df\n",
    "        .assign(metric=lambda x: x[site_metric]**p)\n",
    "        .pivot_table(index='site', columns='condition', values='metric', fill_value=0)\n",
    "        # for normalization: https://stackoverflow.com/a/58113206\n",
    "        # to get norm: https://stackoverflow.com/a/47953601\n",
    "        .transform(lambda x: x / numpy.linalg.norm(x, axis=0))\n",
    "        )\n",
    "    for cond1, cond2 in itertools.product(conditions, conditions):\n",
    "        similarity = (\n",
    "            pivoted_df\n",
    "            .assign(similarity=lambda x: x[cond1] * x[cond2])\n",
    "            ['similarity']\n",
    "            )\n",
    "        assert similarity.notnull().all()  # make sure no sites have null values\n",
    "        similarities.append(similarity.sum())  # sum of similarities over sites\n",
    "    return pd.DataFrame(numpy.array(similarities).reshape(len(conditions), len(conditions)),\n",
    "                        columns=conditions, index=conditions)"
   ]
  },
  {
   "cell_type": "markdown",
   "metadata": {},
   "source": [
    "Define function to compute dissimilarity $d$ from the similarity $s$.\n",
    "Options are:\n",
    "  - **one_minus**: $d = 1 - s$\n",
    "  - **minus_log**: $d = -\\ln s$"
   ]
  },
  {
   "cell_type": "code",
   "execution_count": 8,
   "metadata": {
    "execution": {
     "iopub.execute_input": "2022-04-26T01:55:19.165056Z",
     "iopub.status.busy": "2022-04-26T01:55:19.164231Z",
     "iopub.status.idle": "2022-04-26T01:55:19.168174Z",
     "shell.execute_reply": "2022-04-26T01:55:19.168685Z"
    }
   },
   "outputs": [],
   "source": [
    "def dissimilarity(similarity, method='one_minus'):\n",
    "    if method == 'one_minus':\n",
    "        return 1 - similarity\n",
    "    elif method == 'minus_log':\n",
    "        return -numpy.log(similarity)\n",
    "    else:\n",
    "        raise ValueError(f\"invalid `method` {method}\")"
   ]
  },
  {
   "cell_type": "markdown",
   "metadata": {},
   "source": [
    "Now compute the similarities and dissimilarities, and do the multidimensional scaling [as described here](https://scikit-learn.org/stable/auto_examples/manifold/plot_mds.html#sphx-glr-auto-examples-manifold-plot-mds-py).\n",
    "We do this just for the antibody combinations for which such a plot is specified in the escape profiles configuration file.\n",
    "We then plot the multidimensional scaling, using [adjustTexts](https://adjusttext.readthedocs.io/) to repel the labels and following [here](https://stackoverflow.com/q/56337732) to draw pie charts that color the points according to the site-coloring scheme if specified in configuration.\n",
    "These pie charts color by the fraction of the squared site escape apportioned to each site category."
   ]
  },
  {
   "cell_type": "code",
   "execution_count": 9,
   "metadata": {
    "execution": {
     "iopub.execute_input": "2022-04-26T01:55:19.171919Z",
     "iopub.status.busy": "2022-04-26T01:55:19.170829Z",
     "iopub.status.idle": "2022-04-26T01:55:20.540021Z",
     "shell.execute_reply": "2022-04-26T01:55:20.540482Z"
    }
   },
   "outputs": [
    {
     "name": "stdout",
     "output_type": "stream",
     "text": [
      "\n",
      "Making plot all_mAbs, which has the following antibodies:\n",
      "['S2X259_59', 'mAb1_139', 'mAb2_232', 'mAb3_234', 'mAb4_462', 'mAb5_1694', 'mAb6_584', 'mAb7_103', 'mAb8_2000', 'mAb9_154', 'mAb10_147', 'mAb11_125', 'mAb12_267', 'mAb13_147', 'mAb14_256']\n",
      "Using the subdomain site color scheme\n",
      "Saving plot to results/multidimensional_scaling/all_mAbs_mds.pdf\n"
     ]
    },
    {
     "data": {
      "image/png": "[encoded data removed]",
      "text/plain": [
       "<Figure size 540x540 with 1 Axes>"
      ]
     },
     "metadata": {},
     "output_type": "display_data"
    }
   ],
   "source": [
    "# which method do we use to compute dissimilarity?\n",
    "dissimilarity_method = 'one_minus'\n",
    "\n",
    "# do we also plot similarity / dissimilarity matrices?\n",
    "plot_similarity = False\n",
    "\n",
    "# function to draw colored pie for each point.\n",
    "def draw_pie(dist, xpos, ypos, size, ax, colors, alpha, circle_color):\n",
    "    \"\"\"Based on this: https://stackoverflow.com/q/56337732\"\"\"\n",
    "    # for incremental pie slices\n",
    "    cumsum = numpy.cumsum(dist)\n",
    "    cumsum = cumsum / cumsum[-1]\n",
    "    pie = [0] + cumsum.tolist()\n",
    "\n",
    "    assert len(colors) == len(dist)\n",
    "    for r1, r2, color in zip(pie[:-1], pie[1:], colors):\n",
    "        angles = numpy.linspace(2 * numpy.pi * r1, 2 * numpy.pi * r2)\n",
    "        x = [0] + numpy.cos(angles).tolist()\n",
    "        y = [0] + numpy.sin(angles).tolist()\n",
    "\n",
    "        xy = numpy.column_stack([x, y])\n",
    "\n",
    "        ax.scatter([xpos], [ypos], marker=xy, s=size, facecolors=color, alpha=alpha, edgecolors='none')\n",
    "        ax.scatter(xpos, ypos, marker='o', s=size, edgecolors=circle_color,\n",
    "                   facecolors='none', alpha=alpha)\n",
    "\n",
    "    return ax\n",
    "\n",
    "# loop over combinations to plot\n",
    "for name, specs in mds_config.items():\n",
    "    \n",
    "    # get data frame with just the conditions we want to plot, also re-naming them\n",
    "    conditions_to_plot = list(specs['conditions'].keys())\n",
    "    print(f\"\\nMaking plot {name}, which has the following antibodies:\\n{conditions_to_plot}\")\n",
    "    assert len(conditions_to_plot) == len(set(specs['conditions'].values()))\n",
    "    assert set(conditions_to_plot).issubset(set(escape_fracs['condition']))\n",
    "    df = (escape_fracs\n",
    "          .query('condition in @conditions_to_plot')\n",
    "          .assign(condition=lambda x: x['condition'].map(specs['conditions']))\n",
    "          )\n",
    "    \n",
    "    # compute similarities and dissimilarities\n",
    "    similarities = escape_similarity(df)\n",
    "    dissimilarities = similarities.applymap(lambda x: dissimilarity(x, method=dissimilarity_method))\n",
    "    conditions = df['condition'].unique()\n",
    "    assert all(conditions == similarities.columns) and all(conditions == similarities.index)\n",
    "    n = len(conditions)\n",
    "    \n",
    "    # plot similarities\n",
    "    if plot_similarity:\n",
    "        for title, data in [('Similarities', similarities), ('Dissimilarities', dissimilarities)]:\n",
    "            fig, ax = plt.subplots(figsize=(0.8 * n, 0.7 * n))\n",
    "            _ = seaborn.heatmap(data, annot=True, ax=ax)\n",
    "            plt.title(f\"{title} for {name}\", size=16)\n",
    "            plt.show(fig)\n",
    "            plt.close(fig)\n",
    "    \n",
    "    # use multidimensional scaling to get locations of antibodies\n",
    "    mds = sklearn.manifold.MDS(n_components=2,\n",
    "                               metric=True,\n",
    "                               max_iter=3000,\n",
    "                               eps=1e-6,\n",
    "                               random_state=1 if 'random_state' not in specs else specs['random_state'],\n",
    "                               dissimilarity='precomputed',\n",
    "                               n_jobs=1)\n",
    "    locs = mds.fit_transform(dissimilarities)\n",
    "    \n",
    "    # get the colors for each point if relevant\n",
    "    color_scheme = specs['color_scheme']\n",
    "    if isinstance(color_scheme, list):\n",
    "        color_csv, color_col = color_scheme\n",
    "        print(f\"Using condition-level color scheme in column {color_col} of {color_csv}\")\n",
    "        dists = [[1] for condition in conditions]\n",
    "        condition_to_color = pd.read_csv(color_csv).set_index('condition')[color_col].to_dict()\n",
    "        if not set(conditions).issubset(set(condition_to_color)):\n",
    "            raise ValueError(f\"{color_scheme} doesn't have colors for all conditions: {conditions}\")\n",
    "        colors = [[condition_to_color[condition]] for condition in conditions]\n",
    "    elif color_scheme in site_color_schemes.columns:\n",
    "        print(f\"Using the {color_scheme} site color scheme\")\n",
    "        site_colors = site_color_schemes.set_index('site')[color_scheme].to_dict()\n",
    "        df = df.assign(color=lambda x: x['site'].map(site_colors))\n",
    "        dists = []\n",
    "        colors = []\n",
    "        for condition, condition_df in (\n",
    "                df\n",
    "                [['condition', 'color', 'site', site_metric]]\n",
    "                .drop_duplicates()\n",
    "                .assign(site_metric2=lambda x: x[site_metric]**2)  # color in proportion to **square** of site escape\n",
    "                .groupby(['condition', 'color'])\n",
    "                .aggregate(tot_escape=pd.NamedAgg('site_metric2', 'sum'))\n",
    "                .reset_index()\n",
    "                .sort_values('tot_escape', ascending=False)\n",
    "                .assign(condition=lambda x: pd.Categorical(x['condition'], conditions, ordered=True))\n",
    "                .groupby('condition', sort=True)\n",
    "                ):\n",
    "            dists.append(condition_df['tot_escape'].tolist())\n",
    "            colors.append(condition_df['color'].tolist())\n",
    "    else:\n",
    "        print(f\"Coloring all points {color_scheme}\")\n",
    "        dists = [[1] for conditition in conditions]\n",
    "        colors = [[color_scheme] for condition in conditions]\n",
    "        \n",
    "    # get circle / label colors\n",
    "    if 'default_circle_color' in specs:\n",
    "        default_circle_color = specs['default_circle_color']\n",
    "    else:\n",
    "        default_circle_color = 'none'\n",
    "    if 'default_label_color' in specs:\n",
    "        default_label_color = specs['default_label_color']\n",
    "    else:\n",
    "        default_label_color = 'black'\n",
    "    circle_colors = []\n",
    "    label_colors = []\n",
    "    for condition in conditions:\n",
    "        if 'circle_colors' in specs and condition in specs['circle_colors']:\n",
    "            circle_colors.append(specs['circle_colors'][condition])\n",
    "        else:\n",
    "            circle_colors.append(default_circle_color)\n",
    "        if 'label_colors' in specs and condition in specs['label_colors']:\n",
    "            label_colors.append(specs['label_colors'][condition])\n",
    "        else:\n",
    "            label_colors.append(default_label_color)\n",
    "    \n",
    "    # plot the multidimensional scaling result\n",
    "    plot_size = 4 if 'plot_size' not in specs else specs['plot_size']\n",
    "    fig, ax = plt.subplots(figsize=(plot_size, plot_size))\n",
    "    xs = locs[:, 0]\n",
    "    ys = locs[:, 1]\n",
    "    for x, y, dist, color, circle_color in zip(xs, ys, dists, colors, circle_colors):\n",
    "        draw_pie(dist, x, y,\n",
    "                 size=300 if 'pie_size' not in specs else specs['pie_size'],\n",
    "                 ax=ax,\n",
    "                 colors=color,\n",
    "                 alpha=0.7 if 'pie_alpha' not in specs else specs['pie_alpha'],\n",
    "                 circle_color=circle_color,\n",
    "                 )\n",
    "    ax.set_aspect('equal', adjustable='box')  # same distance on both axes\n",
    "    ax.set_xticks([])  # no x-ticks\n",
    "    ax.set_yticks([])  # no y-ticks\n",
    "    ax.margins(0.09)  # increase padding from axes\n",
    "    if 'no_labels' not in specs or not specs['no_labels']:\n",
    "        texts = [plt.text(x, y, label, color=color) for x, y, label, color\n",
    "                 in zip(xs, ys, conditions, label_colors)]\n",
    "        adjustText.adjust_text(texts,\n",
    "                               x=xs,\n",
    "                               y=ys,\n",
    "                               expand_points=(1.2, 1.6) if 'expand_points' not in specs\n",
    "                                             else specs['expand_points'],\n",
    "                               )\n",
    "    plotfile = os.path.join(config['mds_dir'], f\"{name}_mds.pdf\")\n",
    "    print(f\"Saving plot to {plotfile}\")\n",
    "    fig.savefig(plotfile, bbox_inches='tight')\n",
    "    plt.show(fig)\n",
    "    plt.close(fig)"
   ]
  }
 ],
 "metadata": {
  "language_info": {
   "codemirror_mode": {
    "name": "ipython",
    "version": 3
   },
   "file_extension": ".py",
   "mimetype": "text/x-python",
   "name": "python",
   "nbconvert_exporter": "python",
   "pygments_lexer": "ipython3",
   "version": "3.7.8"
  }
 },
 "nbformat": 4,
 "nbformat_minor": 4
}
