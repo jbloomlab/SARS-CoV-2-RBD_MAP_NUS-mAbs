{
 "cells": [
  {
   "cell_type": "markdown",
   "metadata": {},
   "source": [
    "# Output PDBs with escape scores as B factors\n",
    "This Python Jupyter notebook outputs PDBs with the escape scores as B factors.\n",
    "\n",
    "Though we will want more elaborate series of commands to codify our visualization of these RBD structures colored by escape, the series of commands below, when executed in a `PyMol` session with one of these PDBs open, will color the RBD surface according to escape scores.\n",
    "\n",
    "For example, to normalize each structure colored by the max mut effect, we might want to have a white to red scale from 0 to 1:\n",
    "\n",
    "     create RBD, chain E\n",
    "     hide all; show cartoon, chain A; color gray20, chain A\n",
    "     show surface, RBD; spectrum b, white red, RBD, minimum=0, maximum=1\n",
    "     \n",
    "For something like total escape, maybe we want each structure normalized to the maximum total escape in that structure, in which case we can just leave the maximum argument empty:\n",
    "\n",
    "     create RBD, chain E\n",
    "     hide all; show cartoon, chain A; color gray20, chain A\n",
    "     show surface, RBD; spectrum b, white red, RBD, minimum=0\n",
    "     \n",
    "We write PDBs with B factors indicating the total site escape and maximum mutation escape at each site, and the same with these values normalized to the maximum for the full structure (the latter are easier to process in `Chimera`).\n",
    "\n",
    "First, import Python modules:"
   ]
  },
  {
   "cell_type": "code",
   "execution_count": 1,
   "metadata": {
    "execution": {
     "iopub.execute_input": "2023-02-28T22:11:30.514266Z",
     "iopub.status.busy": "2023-02-28T22:11:30.511833Z",
     "iopub.status.idle": "2023-02-28T22:11:34.110384Z",
     "shell.execute_reply": "2023-02-28T22:11:34.111076Z"
    }
   },
   "outputs": [],
   "source": [
    "import collections\n",
    "import copy\n",
    "import os\n",
    "import warnings\n",
    "\n",
    "import Bio.PDB\n",
    "\n",
    "import dms_variants.pdb_utils\n",
    "\n",
    "from IPython.display import display, HTML\n",
    "\n",
    "import pandas as pd\n",
    "\n",
    "import yaml"
   ]
  },
  {
   "cell_type": "markdown",
   "metadata": {},
   "source": [
    "Read the configuration file:"
   ]
  },
  {
   "cell_type": "code",
   "execution_count": 2,
   "metadata": {
    "execution": {
     "iopub.execute_input": "2023-02-28T22:11:34.114436Z",
     "iopub.status.busy": "2023-02-28T22:11:34.113477Z",
     "iopub.status.idle": "2023-02-28T22:11:34.132883Z",
     "shell.execute_reply": "2023-02-28T22:11:34.133394Z"
    }
   },
   "outputs": [],
   "source": [
    "with open('config.yaml') as f:\n",
    "    config = yaml.safe_load(f)"
   ]
  },
  {
   "cell_type": "markdown",
   "metadata": {},
   "source": [
    "Read configuration for outputting PDBs:"
   ]
  },
  {
   "cell_type": "code",
   "execution_count": 3,
   "metadata": {
    "execution": {
     "iopub.execute_input": "2023-02-28T22:11:34.136026Z",
     "iopub.status.busy": "2023-02-28T22:11:34.135216Z",
     "iopub.status.idle": "2023-02-28T22:11:34.143370Z",
     "shell.execute_reply": "2023-02-28T22:11:34.143893Z"
    }
   },
   "outputs": [
    {
     "name": "stdout",
     "output_type": "stream",
     "text": [
      "Reading PDB output configuration from data/output_pdbs_config.yaml\n"
     ]
    }
   ],
   "source": [
    "print(f\"Reading PDB output configuration from {config['output_pdbs_config']}\")\n",
    "with open(config['output_pdbs_config']) as f:\n",
    "    output_pdbs_config = yaml.safe_load(f)"
   ]
  },
  {
   "cell_type": "markdown",
   "metadata": {},
   "source": [
    "Make output directory:"
   ]
  },
  {
   "cell_type": "code",
   "execution_count": 4,
   "metadata": {
    "execution": {
     "iopub.execute_input": "2023-02-28T22:11:34.146465Z",
     "iopub.status.busy": "2023-02-28T22:11:34.145626Z",
     "iopub.status.idle": "2023-02-28T22:11:34.150995Z",
     "shell.execute_reply": "2023-02-28T22:11:34.151572Z"
    }
   },
   "outputs": [],
   "source": [
    "os.makedirs(config['pdb_outputs_dir'], exist_ok=True)"
   ]
  },
  {
   "cell_type": "markdown",
   "metadata": {},
   "source": [
    "Read escape fractions and compute **total** and **maximum** escape at each site, and also the total and maximum escape at each site normalized to be between 0 and 1 for each selection:"
   ]
  },
  {
   "cell_type": "code",
   "execution_count": 5,
   "metadata": {
    "execution": {
     "iopub.execute_input": "2023-02-28T22:11:34.154477Z",
     "iopub.status.busy": "2023-02-28T22:11:34.153542Z",
     "iopub.status.idle": "2023-02-28T22:11:34.329361Z",
     "shell.execute_reply": "2023-02-28T22:11:34.329986Z"
    }
   },
   "outputs": [
    {
     "name": "stdout",
     "output_type": "stream",
     "text": [
      "Reading escape fractions from results/escape_scores/escape_fracs.csv\n"
     ]
    },
    {
     "data": {
      "text/html": [
       "<table border=\"1\" class=\"dataframe\">\n",
       "  <thead>\n",
       "    <tr style=\"text-align: right;\">\n",
       "      <th>selection</th>\n",
       "      <th>site</th>\n",
       "      <th>total_escape</th>\n",
       "      <th>max_escape</th>\n",
       "      <th>max_total_escape</th>\n",
       "      <th>max_max_escape</th>\n",
       "      <th>norm_total_escape</th>\n",
       "      <th>norm_max_escape</th>\n",
       "    </tr>\n",
       "  </thead>\n",
       "  <tbody>\n",
       "    <tr>\n",
       "      <td>S2K146_63</td>\n",
       "      <td>331</td>\n",
       "      <td>0.024695</td>\n",
       "      <td>0.004261</td>\n",
       "      <td>4.6192</td>\n",
       "      <td>1.0</td>\n",
       "      <td>0.005346</td>\n",
       "      <td>0.004261</td>\n",
       "    </tr>\n",
       "    <tr>\n",
       "      <td>S2K146_63</td>\n",
       "      <td>332</td>\n",
       "      <td>0.024385</td>\n",
       "      <td>0.002188</td>\n",
       "      <td>4.6192</td>\n",
       "      <td>1.0</td>\n",
       "      <td>0.005279</td>\n",
       "      <td>0.002188</td>\n",
       "    </tr>\n",
       "    <tr>\n",
       "      <td>S2K146_63</td>\n",
       "      <td>333</td>\n",
       "      <td>0.018730</td>\n",
       "      <td>0.001419</td>\n",
       "      <td>4.6192</td>\n",
       "      <td>1.0</td>\n",
       "      <td>0.004055</td>\n",
       "      <td>0.001419</td>\n",
       "    </tr>\n",
       "    <tr>\n",
       "      <td>S2K146_63</td>\n",
       "      <td>334</td>\n",
       "      <td>0.017451</td>\n",
       "      <td>0.001390</td>\n",
       "      <td>4.6192</td>\n",
       "      <td>1.0</td>\n",
       "      <td>0.003778</td>\n",
       "      <td>0.001390</td>\n",
       "    </tr>\n",
       "    <tr>\n",
       "      <td>S2K146_63</td>\n",
       "      <td>335</td>\n",
       "      <td>0.022552</td>\n",
       "      <td>0.001652</td>\n",
       "      <td>4.6192</td>\n",
       "      <td>1.0</td>\n",
       "      <td>0.004882</td>\n",
       "      <td>0.001652</td>\n",
       "    </tr>\n",
       "  </tbody>\n",
       "</table>"
      ],
      "text/plain": [
       "<IPython.core.display.HTML object>"
      ]
     },
     "metadata": {},
     "output_type": "display_data"
    }
   ],
   "source": [
    "print(f\"Reading escape fractions from {config['escape_fracs']}\")\n",
    "\n",
    "escape_fracs = (\n",
    "    pd.read_csv(config['escape_fracs'])\n",
    "    .query('library == \"average\"')\n",
    "    .assign(site=lambda x: x['label_site'])\n",
    "    .groupby(['selection', 'site'])\n",
    "    .aggregate(total_escape=pd.NamedAgg(config['mut_metric'], 'sum'),\n",
    "               max_escape=pd.NamedAgg(config['mut_metric'], 'max')\n",
    "               )\n",
    "    .reset_index()\n",
    "    .assign(max_total_escape=lambda x: x.groupby('selection')['total_escape'].transform('max'),\n",
    "            max_max_escape=lambda x: x.groupby('selection')['max_escape'].transform('max'),\n",
    "            norm_total_escape=lambda x: x['total_escape'] / x['max_total_escape'],\n",
    "            norm_max_escape=lambda x: x['max_escape'] / x['max_max_escape'])\n",
    "    )\n",
    "\n",
    "display(HTML(escape_fracs.head().to_html(index=False)))"
   ]
  },
  {
   "cell_type": "markdown",
   "metadata": {},
   "source": [
    "Now map the escape metrics to the B-factors.\n",
    "For sites where no mutations have escape scores:\n",
    " - In the RBD chain(s) fill the B-factor for non-normalized scores to -1 to enable collapsing to zero or callout as a a separate class, depending how we choose to color sites for different visualizations. For normalized scores, fill to 0.\n",
    " - In other chains, always fill missing B factors to 0.  "
   ]
  },
  {
   "cell_type": "code",
   "execution_count": 6,
   "metadata": {
    "execution": {
     "iopub.execute_input": "2023-02-28T22:11:34.333379Z",
     "iopub.status.busy": "2023-02-28T22:11:34.332361Z",
     "iopub.status.idle": "2023-02-28T22:11:44.972911Z",
     "shell.execute_reply": "2023-02-28T22:11:44.973479Z"
    }
   },
   "outputs": [
    {
     "name": "stdout",
     "output_type": "stream",
     "text": [
      "\n",
      "Making PDB mappings for 6m0j to data/pdbs/6M0J.pdb\n",
      "Making mappings for 16 conditions.\n",
      "Mapping to the following chains: E\n",
      "  Writing B-factor re-assigned PDBs for S2K146_63 to:\n",
      "    results/pdb_outputs/S2K146_63_6m0j_total_escape.pdb\n",
      "    results/pdb_outputs/S2K146_63_6m0j_max_escape.pdb\n",
      "    results/pdb_outputs/S2K146_63_6m0j_norm_total_escape.pdb\n",
      "    results/pdb_outputs/S2K146_63_6m0j_norm_max_escape.pdb\n",
      "  Writing B-factor re-assigned PDBs for S2X259_59 to:\n",
      "    results/pdb_outputs/S2X259_59_6m0j_total_escape.pdb\n",
      "    results/pdb_outputs/S2X259_59_6m0j_max_escape.pdb\n",
      "    results/pdb_outputs/S2X259_59_6m0j_norm_total_escape.pdb\n",
      "    results/pdb_outputs/S2X259_59_6m0j_norm_max_escape.pdb\n",
      "  Writing B-factor re-assigned PDBs for mAb10_147 to:\n",
      "    results/pdb_outputs/mAb10_147_6m0j_total_escape.pdb\n",
      "    results/pdb_outputs/mAb10_147_6m0j_max_escape.pdb\n",
      "    results/pdb_outputs/mAb10_147_6m0j_norm_total_escape.pdb\n",
      "    results/pdb_outputs/mAb10_147_6m0j_norm_max_escape.pdb\n",
      "  Writing B-factor re-assigned PDBs for mAb11_125 to:\n",
      "    results/pdb_outputs/mAb11_125_6m0j_total_escape.pdb\n",
      "    results/pdb_outputs/mAb11_125_6m0j_max_escape.pdb\n",
      "    results/pdb_outputs/mAb11_125_6m0j_norm_total_escape.pdb\n",
      "    results/pdb_outputs/mAb11_125_6m0j_norm_max_escape.pdb\n",
      "  Writing B-factor re-assigned PDBs for mAb12_267 to:\n",
      "    results/pdb_outputs/mAb12_267_6m0j_total_escape.pdb\n",
      "    results/pdb_outputs/mAb12_267_6m0j_max_escape.pdb\n",
      "    results/pdb_outputs/mAb12_267_6m0j_norm_total_escape.pdb\n",
      "    results/pdb_outputs/mAb12_267_6m0j_norm_max_escape.pdb\n",
      "  Writing B-factor re-assigned PDBs for mAb13_147 to:\n",
      "    results/pdb_outputs/mAb13_147_6m0j_total_escape.pdb\n",
      "    results/pdb_outputs/mAb13_147_6m0j_max_escape.pdb\n",
      "    results/pdb_outputs/mAb13_147_6m0j_norm_total_escape.pdb\n",
      "    results/pdb_outputs/mAb13_147_6m0j_norm_max_escape.pdb\n",
      "  Writing B-factor re-assigned PDBs for mAb14_256 to:\n",
      "    results/pdb_outputs/mAb14_256_6m0j_total_escape.pdb\n",
      "    results/pdb_outputs/mAb14_256_6m0j_max_escape.pdb\n",
      "    results/pdb_outputs/mAb14_256_6m0j_norm_total_escape.pdb\n",
      "    results/pdb_outputs/mAb14_256_6m0j_norm_max_escape.pdb\n",
      "  Writing B-factor re-assigned PDBs for mAb1_139 to:\n",
      "    results/pdb_outputs/mAb1_139_6m0j_total_escape.pdb\n",
      "    results/pdb_outputs/mAb1_139_6m0j_max_escape.pdb\n",
      "    results/pdb_outputs/mAb1_139_6m0j_norm_total_escape.pdb\n",
      "    results/pdb_outputs/mAb1_139_6m0j_norm_max_escape.pdb\n",
      "  Writing B-factor re-assigned PDBs for mAb2_232 to:\n",
      "    results/pdb_outputs/mAb2_232_6m0j_total_escape.pdb\n",
      "    results/pdb_outputs/mAb2_232_6m0j_max_escape.pdb\n",
      "    results/pdb_outputs/mAb2_232_6m0j_norm_total_escape.pdb\n",
      "    results/pdb_outputs/mAb2_232_6m0j_norm_max_escape.pdb\n",
      "  Writing B-factor re-assigned PDBs for mAb3_234 to:\n",
      "    results/pdb_outputs/mAb3_234_6m0j_total_escape.pdb\n",
      "    results/pdb_outputs/mAb3_234_6m0j_max_escape.pdb\n",
      "    results/pdb_outputs/mAb3_234_6m0j_norm_total_escape.pdb\n",
      "    results/pdb_outputs/mAb3_234_6m0j_norm_max_escape.pdb\n",
      "  Writing B-factor re-assigned PDBs for mAb4_462 to:\n",
      "    results/pdb_outputs/mAb4_462_6m0j_total_escape.pdb\n",
      "    results/pdb_outputs/mAb4_462_6m0j_max_escape.pdb\n",
      "    results/pdb_outputs/mAb4_462_6m0j_norm_total_escape.pdb\n",
      "    results/pdb_outputs/mAb4_462_6m0j_norm_max_escape.pdb\n",
      "  Writing B-factor re-assigned PDBs for mAb5_1694 to:\n",
      "    results/pdb_outputs/mAb5_1694_6m0j_total_escape.pdb\n",
      "    results/pdb_outputs/mAb5_1694_6m0j_max_escape.pdb\n",
      "    results/pdb_outputs/mAb5_1694_6m0j_norm_total_escape.pdb\n",
      "    results/pdb_outputs/mAb5_1694_6m0j_norm_max_escape.pdb\n",
      "  Writing B-factor re-assigned PDBs for mAb6_584 to:\n",
      "    results/pdb_outputs/mAb6_584_6m0j_total_escape.pdb\n",
      "    results/pdb_outputs/mAb6_584_6m0j_max_escape.pdb\n",
      "    results/pdb_outputs/mAb6_584_6m0j_norm_total_escape.pdb\n",
      "    results/pdb_outputs/mAb6_584_6m0j_norm_max_escape.pdb\n",
      "  Writing B-factor re-assigned PDBs for mAb7_103 to:\n",
      "    results/pdb_outputs/mAb7_103_6m0j_total_escape.pdb\n",
      "    results/pdb_outputs/mAb7_103_6m0j_max_escape.pdb\n",
      "    results/pdb_outputs/mAb7_103_6m0j_norm_total_escape.pdb\n",
      "    results/pdb_outputs/mAb7_103_6m0j_norm_max_escape.pdb\n",
      "  Writing B-factor re-assigned PDBs for mAb8_2000 to:\n",
      "    results/pdb_outputs/mAb8_2000_6m0j_total_escape.pdb\n",
      "    results/pdb_outputs/mAb8_2000_6m0j_max_escape.pdb\n",
      "    results/pdb_outputs/mAb8_2000_6m0j_norm_total_escape.pdb\n",
      "    results/pdb_outputs/mAb8_2000_6m0j_norm_max_escape.pdb\n",
      "  Writing B-factor re-assigned PDBs for mAb9_154 to:\n",
      "    results/pdb_outputs/mAb9_154_6m0j_total_escape.pdb\n",
      "    results/pdb_outputs/mAb9_154_6m0j_max_escape.pdb\n",
      "    results/pdb_outputs/mAb9_154_6m0j_norm_total_escape.pdb\n",
      "    results/pdb_outputs/mAb9_154_6m0j_norm_max_escape.pdb\n"
     ]
    }
   ],
   "source": [
    "for name, specs in output_pdbs_config.items():\n",
    "    print(f\"\\nMaking PDB mappings for {name} to {specs['pdbfile']}\")\n",
    "    assert os.path.isfile(specs['pdbfile'])\n",
    "    \n",
    "    # get escape fracs just for conditions of interest\n",
    "    if isinstance(specs['conditions'], str) and specs['conditions'].upper() == 'ALL':\n",
    "        conditions = escape_fracs['selection'].unique().tolist()\n",
    "    else:\n",
    "        assert isinstance(specs['conditions'], list)\n",
    "        conditions = specs['conditions']\n",
    "    print(f\"Making mappings for {len(conditions)} conditions.\")\n",
    "    df = escape_fracs.query('selection in @conditions')\n",
    "    \n",
    "    # get chains\n",
    "    assert isinstance(specs['chains'], list)\n",
    "    print('Mapping to the following chains: ' + ', '.join(specs['chains']))\n",
    "    df = pd.concat([df.assign(chain=chain) for chain in specs['chains']], ignore_index=True)\n",
    "    \n",
    "    # make mappings for each condition and metric\n",
    "    for condition, df in df.groupby('selection'):\n",
    "        print(f\"  Writing B-factor re-assigned PDBs for {condition} to:\")\n",
    "    \n",
    "        for metric in ['total_escape', 'max_escape', 'norm_total_escape', 'norm_max_escape']:\n",
    "        \n",
    "            # what do we assign to missing sites?\n",
    "            missing_metric = collections.defaultdict(lambda: 0)  # non-RBD chains always fill to zero\n",
    "            for chain in specs['chains']:\n",
    "                if 'norm' in metric:\n",
    "                    missing_metric[chain] = 0  # missing sites in RBD are 0 for normalized metric PDBs\n",
    "                else:\n",
    "                    missing_metric[chain] = -1  # missing sites in RBD are -1 for non-normalized metric PDBs\n",
    "        \n",
    "            fname = os.path.join(config['pdb_outputs_dir'], f\"{condition}_{name}_{metric}.pdb\")\n",
    "            print(f\"    {fname}\")\n",
    "            \n",
    "            dms_variants.pdb_utils.reassign_b_factor(input_pdbfile=specs['pdbfile'],\n",
    "                                                     output_pdbfile=fname,\n",
    "                                                     df=df,\n",
    "                                                     metric_col=metric,\n",
    "                                                     missing_metric=missing_metric)"
   ]
  }
 ],
 "metadata": {
  "language_info": {
   "codemirror_mode": {
    "name": "ipython",
    "version": 3
   },
   "file_extension": ".py",
   "mimetype": "text/x-python",
   "name": "python",
   "nbconvert_exporter": "python",
   "pygments_lexer": "ipython3",
   "version": "3.7.8"
  }
 },
 "nbformat": 4,
 "nbformat_minor": 4
}
